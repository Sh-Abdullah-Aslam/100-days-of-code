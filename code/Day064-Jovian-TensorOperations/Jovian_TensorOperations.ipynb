{
  "nbformat": 4,
  "nbformat_minor": 0,
  "metadata": {
    "kernelspec": {
      "display_name": "Python 3",
      "language": "python",
      "name": "python3"
    },
    "language_info": {
      "codemirror_mode": {
        "name": "ipython",
        "version": 3
      },
      "file_extension": ".py",
      "mimetype": "text/x-python",
      "name": "python",
      "nbconvert_exporter": "python",
      "pygments_lexer": "ipython3",
      "version": "3.7.6"
    },
    "colab": {
      "name": "Jovian-TensorOperations.ipynb",
      "provenance": [],
      "collapsed_sections": []
    }
  },
  "cells": [
    {
      "cell_type": "code",
      "metadata": {
        "id": "_5MyR-uR7B9q",
        "colab": {
          "base_uri": "https://localhost:8080/"
        },
        "outputId": "a9254129-881f-4882-9429-8d6ef5a67015"
      },
      "source": [
        "!pip install jovian --upgrade --quiet"
      ],
      "execution_count": 1,
      "outputs": [
        {
          "output_type": "stream",
          "text": [
            "\u001b[?25l\r\u001b[K     |█████                           | 10kB 19.5MB/s eta 0:00:01\r\u001b[K     |██████████                      | 20kB 23.1MB/s eta 0:00:01\r\u001b[K     |██████████████▉                 | 30kB 13.5MB/s eta 0:00:01\r\u001b[K     |███████████████████▉            | 40kB 9.9MB/s eta 0:00:01\r\u001b[K     |████████████████████████▉       | 51kB 5.6MB/s eta 0:00:01\r\u001b[K     |█████████████████████████████▊  | 61kB 5.4MB/s eta 0:00:01\r\u001b[K     |████████████████████████████████| 71kB 3.4MB/s \n",
            "\u001b[?25h  Building wheel for uuid (setup.py) ... \u001b[?25l\u001b[?25hdone\n"
          ],
          "name": "stdout"
        }
      ]
    },
    {
      "cell_type": "code",
      "metadata": {
        "id": "1mYtUfei_94n"
      },
      "source": [
        "import jovian"
      ],
      "execution_count": 2,
      "outputs": []
    },
    {
      "cell_type": "code",
      "metadata": {
        "id": "m-wPta9L7B-K"
      },
      "source": [
        "import torch"
      ],
      "execution_count": 3,
      "outputs": []
    },
    {
      "cell_type": "markdown",
      "metadata": {
        "id": "SY-KhXj-7WWU"
      },
      "source": [
        "#Function 1 - torch.tensor()\r\n",
        "\r\n",
        "torch.tensor() is used to create a tensor"
      ]
    },
    {
      "cell_type": "code",
      "metadata": {
        "id": "QSaFXvwv7mj7",
        "colab": {
          "base_uri": "https://localhost:8080/"
        },
        "outputId": "876e3546-4568-4b01-d07a-9f75d62fe9b7"
      },
      "source": [
        "# Example 1 - working\r\n",
        "\r\n",
        "t1 = torch.tensor([[0.2, 0.5],\r\n",
        "                  [0.4, 0.6]])\r\n",
        "t1"
      ],
      "execution_count": 4,
      "outputs": [
        {
          "output_type": "execute_result",
          "data": {
            "text/plain": [
              "tensor([[0.2000, 0.5000],\n",
              "        [0.4000, 0.6000]])"
            ]
          },
          "metadata": {
            "tags": []
          },
          "execution_count": 4
        }
      ]
    },
    {
      "cell_type": "code",
      "metadata": {
        "id": "4IOjDqGH7y_R",
        "colab": {
          "base_uri": "https://localhost:8080/"
        },
        "outputId": "59ba72fa-3355-453d-b362-d2ecd45f4627"
      },
      "source": [
        "# Example 2 - working\r\n",
        "\r\n",
        "t2 = torch.tensor([[10., 5.],\r\n",
        "                  [4., 0.],\r\n",
        "                   [6., 7.]], requires_grad=True)\r\n",
        "t2"
      ],
      "execution_count": 5,
      "outputs": [
        {
          "output_type": "execute_result",
          "data": {
            "text/plain": [
              "tensor([[10.,  5.],\n",
              "        [ 4.,  0.],\n",
              "        [ 6.,  7.]], requires_grad=True)"
            ]
          },
          "metadata": {
            "tags": []
          },
          "execution_count": 5
        }
      ]
    },
    {
      "cell_type": "markdown",
      "metadata": {
        "id": "rxeRuyUC8TwX"
      },
      "source": [
        "All the rows of a Tensor should have the same number of elements"
      ]
    },
    {
      "cell_type": "code",
      "metadata": {
        "id": "rsw6UzJA8I8i",
        "colab": {
          "base_uri": "https://localhost:8080/",
          "height": 223
        },
        "outputId": "20926e85-0a8a-4bb2-9b9f-99c5a2f933ff"
      },
      "source": [
        "# Example 3 - not working\r\n",
        "\r\n",
        "t3 = torch.tensor([[0.2, 0.5],\r\n",
        "                  [0.4, 0.6, 0.6]])\r\n",
        "t3"
      ],
      "execution_count": null,
      "outputs": [
        {
          "output_type": "error",
          "ename": "ValueError",
          "evalue": "ignored",
          "traceback": [
            "\u001b[0;31m---------------------------------------------------------------------------\u001b[0m",
            "\u001b[0;31mValueError\u001b[0m                                Traceback (most recent call last)",
            "\u001b[0;32m<ipython-input-11-be4a333fac46>\u001b[0m in \u001b[0;36m<module>\u001b[0;34m()\u001b[0m\n\u001b[1;32m      2\u001b[0m \u001b[0;34m\u001b[0m\u001b[0m\n\u001b[1;32m      3\u001b[0m t3 = torch.tensor([[0.2, 0.5],\n\u001b[0;32m----> 4\u001b[0;31m                   [0.4, 0.6, 0.6]])\n\u001b[0m\u001b[1;32m      5\u001b[0m \u001b[0mt3\u001b[0m\u001b[0;34m\u001b[0m\u001b[0;34m\u001b[0m\u001b[0m\n",
            "\u001b[0;31mValueError\u001b[0m: expected sequence of length 2 at dim 1 (got 3)"
          ]
        }
      ]
    },
    {
      "cell_type": "markdown",
      "metadata": {
        "id": "17U3NR-y8rpw"
      },
      "source": [
        "#Function 2 - torch.mean()\r\n",
        "\r\n",
        "This function is used to get the mean of all the elements of the tensor"
      ]
    },
    {
      "cell_type": "code",
      "metadata": {
        "id": "iiA3c3wD9CCj",
        "colab": {
          "base_uri": "https://localhost:8080/"
        },
        "outputId": "752f093f-1403-4df3-ce95-5f4210a27e8c"
      },
      "source": [
        "# Example 1 - working\r\n",
        "\r\n",
        "t4 = torch.rand(2,3)\r\n",
        "torch.mean(t4)"
      ],
      "execution_count": 6,
      "outputs": [
        {
          "output_type": "execute_result",
          "data": {
            "text/plain": [
              "tensor(0.7626)"
            ]
          },
          "metadata": {
            "tags": []
          },
          "execution_count": 6
        }
      ]
    },
    {
      "cell_type": "code",
      "metadata": {
        "id": "wLnkWzfC9VwZ",
        "colab": {
          "base_uri": "https://localhost:8080/"
        },
        "outputId": "63d5f270-a366-4366-d7e9-d28e94d8ac15"
      },
      "source": [
        "# Example 2 - working\r\n",
        "\r\n",
        "t5 = torch.empty((2, 3))\r\n",
        "t5.random_(0,10)\r\n",
        "torch.mean(t5)"
      ],
      "execution_count": 7,
      "outputs": [
        {
          "output_type": "execute_result",
          "data": {
            "text/plain": [
              "tensor(5.3333)"
            ]
          },
          "metadata": {
            "tags": []
          },
          "execution_count": 7
        }
      ]
    },
    {
      "cell_type": "code",
      "metadata": {
        "id": "dHKUo2fG9z-q",
        "colab": {
          "base_uri": "https://localhost:8080/",
          "height": 205
        },
        "outputId": "ef03aea9-b608-4d77-b673-fb99719555be"
      },
      "source": [
        "# Example 3 - not working\r\n",
        "\r\n",
        "t6 = torch.empty((2, 3), dtype=int)\r\n",
        "t6.random_(0,10)\r\n",
        "torch.mean(t6)"
      ],
      "execution_count": 8,
      "outputs": [
        {
          "output_type": "error",
          "ename": "RuntimeError",
          "evalue": "ignored",
          "traceback": [
            "\u001b[0;31m---------------------------------------------------------------------------\u001b[0m",
            "\u001b[0;31mRuntimeError\u001b[0m                              Traceback (most recent call last)",
            "\u001b[0;32m<ipython-input-8-694f6988812d>\u001b[0m in \u001b[0;36m<module>\u001b[0;34m()\u001b[0m\n\u001b[1;32m      3\u001b[0m \u001b[0mt6\u001b[0m \u001b[0;34m=\u001b[0m \u001b[0mtorch\u001b[0m\u001b[0;34m.\u001b[0m\u001b[0mempty\u001b[0m\u001b[0;34m(\u001b[0m\u001b[0;34m(\u001b[0m\u001b[0;36m2\u001b[0m\u001b[0;34m,\u001b[0m \u001b[0;36m3\u001b[0m\u001b[0;34m)\u001b[0m\u001b[0;34m,\u001b[0m \u001b[0mdtype\u001b[0m\u001b[0;34m=\u001b[0m\u001b[0mint\u001b[0m\u001b[0;34m)\u001b[0m\u001b[0;34m\u001b[0m\u001b[0;34m\u001b[0m\u001b[0m\n\u001b[1;32m      4\u001b[0m \u001b[0mt6\u001b[0m\u001b[0;34m.\u001b[0m\u001b[0mrandom_\u001b[0m\u001b[0;34m(\u001b[0m\u001b[0;36m0\u001b[0m\u001b[0;34m,\u001b[0m\u001b[0;36m10\u001b[0m\u001b[0;34m)\u001b[0m\u001b[0;34m\u001b[0m\u001b[0;34m\u001b[0m\u001b[0m\n\u001b[0;32m----> 5\u001b[0;31m \u001b[0mtorch\u001b[0m\u001b[0;34m.\u001b[0m\u001b[0mmean\u001b[0m\u001b[0;34m(\u001b[0m\u001b[0mt6\u001b[0m\u001b[0;34m)\u001b[0m\u001b[0;34m\u001b[0m\u001b[0;34m\u001b[0m\u001b[0m\n\u001b[0m",
            "\u001b[0;31mRuntimeError\u001b[0m: Can only calculate the mean of floating types. Got Long instead."
          ]
        }
      ]
    },
    {
      "cell_type": "markdown",
      "metadata": {
        "id": "hW_n8ohv-fDD"
      },
      "source": [
        "#Function 3 - torch.exp()\r\n",
        "\r\n",
        "This function is used to get the exponent of all the elements of the tensor"
      ]
    },
    {
      "cell_type": "code",
      "metadata": {
        "id": "KOrmMED2-dhY",
        "colab": {
          "base_uri": "https://localhost:8080/"
        },
        "outputId": "5bcd4b2f-dfa4-437c-cdfb-493c719927a1"
      },
      "source": [
        "# Example 1 - working\r\n",
        "\r\n",
        "t = torch.rand(2,3)\r\n",
        "torch.exp(t)"
      ],
      "execution_count": 9,
      "outputs": [
        {
          "output_type": "execute_result",
          "data": {
            "text/plain": [
              "tensor([[2.0768, 1.8824, 1.9556],\n",
              "        [2.4777, 1.2042, 1.6205]])"
            ]
          },
          "metadata": {
            "tags": []
          },
          "execution_count": 9
        }
      ]
    },
    {
      "cell_type": "code",
      "metadata": {
        "id": "pS0J80Bf-nrS",
        "colab": {
          "base_uri": "https://localhost:8080/"
        },
        "outputId": "cc0fd70e-936d-4a6d-d39e-b1d38417dacb"
      },
      "source": [
        "# Example 2 - working\r\n",
        "\r\n",
        "t = torch.rand(5, 5)\r\n",
        "torch.exp(t)"
      ],
      "execution_count": 10,
      "outputs": [
        {
          "output_type": "execute_result",
          "data": {
            "text/plain": [
              "tensor([[1.9577, 2.1649, 2.4221, 1.2105, 2.0875],\n",
              "        [1.0532, 1.6395, 1.0534, 2.7052, 1.9049],\n",
              "        [1.6756, 1.2287, 2.4513, 1.3066, 1.5015],\n",
              "        [1.0717, 1.6687, 2.6902, 2.1645, 2.2169],\n",
              "        [1.3200, 1.3403, 1.2996, 2.2516, 2.3496]])"
            ]
          },
          "metadata": {
            "tags": []
          },
          "execution_count": 10
        }
      ]
    },
    {
      "cell_type": "code",
      "metadata": {
        "id": "k0nbuTaZ-tN1",
        "colab": {
          "base_uri": "https://localhost:8080/",
          "height": 205
        },
        "outputId": "0f7c13a2-25ae-4cee-d2fa-230110652fcc"
      },
      "source": [
        "# Example 3 - not working\r\n",
        "\r\n",
        "t = torch.tensor([10, 12, 15])\r\n",
        "torch.exp(t)"
      ],
      "execution_count": 11,
      "outputs": [
        {
          "output_type": "error",
          "ename": "RuntimeError",
          "evalue": "ignored",
          "traceback": [
            "\u001b[0;31m---------------------------------------------------------------------------\u001b[0m",
            "\u001b[0;31mRuntimeError\u001b[0m                              Traceback (most recent call last)",
            "\u001b[0;32m<ipython-input-11-31a04331c5ea>\u001b[0m in \u001b[0;36m<module>\u001b[0;34m()\u001b[0m\n\u001b[1;32m      2\u001b[0m \u001b[0;34m\u001b[0m\u001b[0m\n\u001b[1;32m      3\u001b[0m \u001b[0mt\u001b[0m \u001b[0;34m=\u001b[0m \u001b[0mtorch\u001b[0m\u001b[0;34m.\u001b[0m\u001b[0mtensor\u001b[0m\u001b[0;34m(\u001b[0m\u001b[0;34m[\u001b[0m\u001b[0;36m10\u001b[0m\u001b[0;34m,\u001b[0m \u001b[0;36m12\u001b[0m\u001b[0;34m,\u001b[0m \u001b[0;36m15\u001b[0m\u001b[0;34m]\u001b[0m\u001b[0;34m)\u001b[0m\u001b[0;34m\u001b[0m\u001b[0;34m\u001b[0m\u001b[0m\n\u001b[0;32m----> 4\u001b[0;31m \u001b[0mtorch\u001b[0m\u001b[0;34m.\u001b[0m\u001b[0mexp\u001b[0m\u001b[0;34m(\u001b[0m\u001b[0mt\u001b[0m\u001b[0;34m)\u001b[0m\u001b[0;34m\u001b[0m\u001b[0;34m\u001b[0m\u001b[0m\n\u001b[0m",
            "\u001b[0;31mRuntimeError\u001b[0m: exp_vml_cpu not implemented for 'Long'"
          ]
        }
      ]
    },
    {
      "cell_type": "markdown",
      "metadata": {
        "id": "r_fxh0ou_Gar"
      },
      "source": [
        "#Function 4 - torch.sigmoif()\r\n",
        "\r\n",
        "This function is used to get the sigmoid activation output of all the elements of the tensor"
      ]
    },
    {
      "cell_type": "code",
      "metadata": {
        "id": "EJBEiHE__FDY",
        "colab": {
          "base_uri": "https://localhost:8080/"
        },
        "outputId": "bc3f61eb-ac34-42ac-c351-be1def0f5723"
      },
      "source": [
        "# Example 1 - working\r\n",
        "\r\n",
        "t = torch.rand(3, 5)\r\n",
        "torch.sigmoid(t)"
      ],
      "execution_count": 12,
      "outputs": [
        {
          "output_type": "execute_result",
          "data": {
            "text/plain": [
              "tensor([[0.5672, 0.6204, 0.6254, 0.5239, 0.7259],\n",
              "        [0.6139, 0.7189, 0.7107, 0.6688, 0.6625],\n",
              "        [0.5860, 0.5043, 0.5842, 0.5284, 0.5509]])"
            ]
          },
          "metadata": {
            "tags": []
          },
          "execution_count": 12
        }
      ]
    },
    {
      "cell_type": "code",
      "metadata": {
        "id": "VBUl9xkb-wRh",
        "colab": {
          "base_uri": "https://localhost:8080/"
        },
        "outputId": "db112206-fdb8-495e-975a-7cdf0a464fc5"
      },
      "source": [
        "# Example 2 - working\r\n",
        "\r\n",
        "t = torch.rand(10, 10)\r\n",
        "torch.sigmoid(t)"
      ],
      "execution_count": 13,
      "outputs": [
        {
          "output_type": "execute_result",
          "data": {
            "text/plain": [
              "tensor([[0.6630, 0.7291, 0.6122, 0.6865, 0.6735, 0.6454, 0.6584, 0.6683, 0.6233,\n",
              "         0.6028],\n",
              "        [0.6597, 0.5898, 0.5244, 0.6238, 0.6892, 0.6673, 0.6411, 0.6625, 0.6479,\n",
              "         0.5007],\n",
              "        [0.6652, 0.5295, 0.6688, 0.5747, 0.7284, 0.5783, 0.6715, 0.6155, 0.6346,\n",
              "         0.6937],\n",
              "        [0.5754, 0.7075, 0.6653, 0.5484, 0.6427, 0.5864, 0.6867, 0.6701, 0.5469,\n",
              "         0.6814],\n",
              "        [0.6213, 0.5209, 0.7042, 0.5942, 0.6112, 0.5111, 0.6319, 0.6360, 0.5418,\n",
              "         0.5650],\n",
              "        [0.6657, 0.6454, 0.7216, 0.6022, 0.5794, 0.7082, 0.5054, 0.7007, 0.5492,\n",
              "         0.6539],\n",
              "        [0.6811, 0.6207, 0.5455, 0.5563, 0.6257, 0.6767, 0.7154, 0.5323, 0.7291,\n",
              "         0.6459],\n",
              "        [0.6400, 0.5714, 0.5445, 0.7083, 0.5155, 0.6532, 0.5962, 0.6253, 0.6760,\n",
              "         0.6690],\n",
              "        [0.5035, 0.7166, 0.6567, 0.5555, 0.6852, 0.6097, 0.5672, 0.6182, 0.5807,\n",
              "         0.5555],\n",
              "        [0.7220, 0.7022, 0.7285, 0.5525, 0.5170, 0.7201, 0.7238, 0.6993, 0.6382,\n",
              "         0.5379]])"
            ]
          },
          "metadata": {
            "tags": []
          },
          "execution_count": 13
        }
      ]
    },
    {
      "cell_type": "code",
      "metadata": {
        "id": "Kf9NYSoA_DHT",
        "colab": {
          "base_uri": "https://localhost:8080/",
          "height": 205
        },
        "outputId": "8ccfb9b6-6838-408f-e0b9-3f2178108e19"
      },
      "source": [
        "# Example 3 - not working\r\n",
        "\r\n",
        "t = torch.tensor([10, 12, 15])\r\n",
        "torch.sigmoid(t)"
      ],
      "execution_count": 14,
      "outputs": [
        {
          "output_type": "error",
          "ename": "RuntimeError",
          "evalue": "ignored",
          "traceback": [
            "\u001b[0;31m---------------------------------------------------------------------------\u001b[0m",
            "\u001b[0;31mRuntimeError\u001b[0m                              Traceback (most recent call last)",
            "\u001b[0;32m<ipython-input-14-3a8b445e7fbd>\u001b[0m in \u001b[0;36m<module>\u001b[0;34m()\u001b[0m\n\u001b[1;32m      2\u001b[0m \u001b[0;34m\u001b[0m\u001b[0m\n\u001b[1;32m      3\u001b[0m \u001b[0mt\u001b[0m \u001b[0;34m=\u001b[0m \u001b[0mtorch\u001b[0m\u001b[0;34m.\u001b[0m\u001b[0mtensor\u001b[0m\u001b[0;34m(\u001b[0m\u001b[0;34m[\u001b[0m\u001b[0;36m10\u001b[0m\u001b[0;34m,\u001b[0m \u001b[0;36m12\u001b[0m\u001b[0;34m,\u001b[0m \u001b[0;36m15\u001b[0m\u001b[0;34m]\u001b[0m\u001b[0;34m)\u001b[0m\u001b[0;34m\u001b[0m\u001b[0;34m\u001b[0m\u001b[0m\n\u001b[0;32m----> 4\u001b[0;31m \u001b[0mtorch\u001b[0m\u001b[0;34m.\u001b[0m\u001b[0msigmoid\u001b[0m\u001b[0;34m(\u001b[0m\u001b[0mt\u001b[0m\u001b[0;34m)\u001b[0m\u001b[0;34m\u001b[0m\u001b[0;34m\u001b[0m\u001b[0m\n\u001b[0m",
            "\u001b[0;31mRuntimeError\u001b[0m: \"sigmoid_cpu\" not implemented for 'Long'"
          ]
        }
      ]
    },
    {
      "cell_type": "markdown",
      "metadata": {
        "id": "8HuR9xVd_a5l"
      },
      "source": [
        "#Function 4 - torch.reshape()\r\n",
        "\r\n",
        "This function is used to reshape the tensor"
      ]
    },
    {
      "cell_type": "code",
      "metadata": {
        "id": "kcCz3Hi7_aBl",
        "colab": {
          "base_uri": "https://localhost:8080/"
        },
        "outputId": "92fd1dd6-9a65-4847-befd-c1eb4bc7f98d"
      },
      "source": [
        "# Example 1 - working\r\n",
        "\r\n",
        "t = torch.rand(2, 5)\r\n",
        "torch.reshape(t, (1, 10))"
      ],
      "execution_count": 15,
      "outputs": [
        {
          "output_type": "execute_result",
          "data": {
            "text/plain": [
              "tensor([[0.6285, 0.1467, 0.2982, 0.1329, 0.2327, 0.1762, 0.6228, 0.1510, 0.5922,\n",
              "         0.8110]])"
            ]
          },
          "metadata": {
            "tags": []
          },
          "execution_count": 15
        }
      ]
    },
    {
      "cell_type": "code",
      "metadata": {
        "id": "dUGV4LlQ_VBy",
        "colab": {
          "base_uri": "https://localhost:8080/"
        },
        "outputId": "1fa8cae7-4722-4328-974b-236b09bbe9ed"
      },
      "source": [
        "# Example 2 - working\r\n",
        "\r\n",
        "t = torch.rand(2, 3, 5)\r\n",
        "torch.reshape(t, (2, 15))"
      ],
      "execution_count": 16,
      "outputs": [
        {
          "output_type": "execute_result",
          "data": {
            "text/plain": [
              "tensor([[0.2560, 0.0383, 0.3982, 0.1040, 0.0760, 0.0583, 0.9024, 0.8584, 0.6486,\n",
              "         0.0037, 0.3634, 0.2023, 0.5500, 0.8208, 0.1139],\n",
              "        [0.6128, 0.9077, 0.0023, 0.8671, 0.9557, 0.7058, 0.4335, 0.6093, 0.3674,\n",
              "         0.6011, 0.8147, 0.2293, 0.9676, 0.9923, 0.0188]])"
            ]
          },
          "metadata": {
            "tags": []
          },
          "execution_count": 16
        }
      ]
    },
    {
      "cell_type": "code",
      "metadata": {
        "id": "eVmHU3Wv_xXp",
        "colab": {
          "base_uri": "https://localhost:8080/",
          "height": 205
        },
        "outputId": "dd4be51f-6cd4-46a4-877d-d15bf835dc00"
      },
      "source": [
        "# Example 3 - not working\r\n",
        "\r\n",
        "t = torch.rand(2, 3, 5)\r\n",
        "torch.reshape(t, (10, 4))"
      ],
      "execution_count": 17,
      "outputs": [
        {
          "output_type": "error",
          "ename": "RuntimeError",
          "evalue": "ignored",
          "traceback": [
            "\u001b[0;31m---------------------------------------------------------------------------\u001b[0m",
            "\u001b[0;31mRuntimeError\u001b[0m                              Traceback (most recent call last)",
            "\u001b[0;32m<ipython-input-17-78309f730432>\u001b[0m in \u001b[0;36m<module>\u001b[0;34m()\u001b[0m\n\u001b[1;32m      2\u001b[0m \u001b[0;34m\u001b[0m\u001b[0m\n\u001b[1;32m      3\u001b[0m \u001b[0mt\u001b[0m \u001b[0;34m=\u001b[0m \u001b[0mtorch\u001b[0m\u001b[0;34m.\u001b[0m\u001b[0mrand\u001b[0m\u001b[0;34m(\u001b[0m\u001b[0;36m2\u001b[0m\u001b[0;34m,\u001b[0m \u001b[0;36m3\u001b[0m\u001b[0;34m,\u001b[0m \u001b[0;36m5\u001b[0m\u001b[0;34m)\u001b[0m\u001b[0;34m\u001b[0m\u001b[0;34m\u001b[0m\u001b[0m\n\u001b[0;32m----> 4\u001b[0;31m \u001b[0mtorch\u001b[0m\u001b[0;34m.\u001b[0m\u001b[0mreshape\u001b[0m\u001b[0;34m(\u001b[0m\u001b[0mt\u001b[0m\u001b[0;34m,\u001b[0m \u001b[0;34m(\u001b[0m\u001b[0;36m10\u001b[0m\u001b[0;34m,\u001b[0m \u001b[0;36m4\u001b[0m\u001b[0;34m)\u001b[0m\u001b[0;34m)\u001b[0m\u001b[0;34m\u001b[0m\u001b[0;34m\u001b[0m\u001b[0m\n\u001b[0m",
            "\u001b[0;31mRuntimeError\u001b[0m: shape '[10, 4]' is invalid for input of size 30"
          ]
        }
      ]
    },
    {
      "cell_type": "code",
      "metadata": {
        "id": "2brWdnex_3oX",
        "colab": {
          "base_uri": "https://localhost:8080/"
        },
        "outputId": "a8dc5a1a-1a8d-4cae-db63-777d93e37175"
      },
      "source": [
        "jovian.submit(assignment=\"zerotogans-a1\", notebook_url='https://colab.research.google.com/drive/1M2yupKQXmXb-WwywXoCPoxB-lKhbzm3Z?usp=sharing')"
      ],
      "execution_count": 19,
      "outputs": [
        {
          "output_type": "stream",
          "text": [
            "[jovian] Please enter your API key ( from https://jovian.ai/ ):\u001b[0m\n",
            "API KEY: ··········\n",
            "[jovian] Submitting assignment..\u001b[0m\n"
          ],
          "name": "stdout"
        },
        {
          "output_type": "stream",
          "text": [
            "\u001b[31m[jovian] Error: Jovian submit failed. (HTTP 400) “https://colab.research.google.com/drive/1M2yupKQXmXb-WwywXoCPoxB-lKhbzm3Z?usp=sharing” is not a valid Jovian Notebook link\u001b[0m\n"
          ],
          "name": "stderr"
        }
      ]
    },
    {
      "cell_type": "code",
      "metadata": {
        "id": "fbIVpTDyAlN1"
      },
      "source": [
        ""
      ],
      "execution_count": null,
      "outputs": []
    }
  ]
}